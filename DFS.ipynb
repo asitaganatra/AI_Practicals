{
  "nbformat": 4,
  "nbformat_minor": 0,
  "metadata": {
    "colab": {
      "provenance": []
    },
    "kernelspec": {
      "name": "python3",
      "display_name": "Python 3"
    },
    "language_info": {
      "name": "python"
    }
  },
  "cells": [
    {
      "cell_type": "code",
      "execution_count": null,
      "metadata": {
        "id": "karapJnZnNkT",
        "colab": {
          "base_uri": "https://localhost:8080/"
        },
        "outputId": "e000b83e-9d10-4e31-eaaf-18ee9c786414"
      },
      "outputs": [
        {
          "output_type": "stream",
          "name": "stdout",
          "text": [
            "Recursive DFS traversal:\n",
            "A -> B -> D -> E -> F -> C\n",
            "\n",
            "Iterative DFS traversal:\n",
            "A -> B -> D -> E -> F -> C\n",
            "\n",
            "Graph structure (adjacency list):\n",
            "A: B, C\n",
            "B: A, D, E\n",
            "C: A, F\n",
            "D: B\n",
            "E: B, F\n",
            "F: C, E\n"
          ]
        }
      ],
      "source": [
        "def dfs_recursive(graph, node, visited=None, traversal_order=None):\n",
        "    \"\"\"\n",
        "    DFS implementation using recursion.\n",
        "\n",
        "    Args:\n",
        "        graph (dict): The graph represented as adjacency list\n",
        "        node: The starting node for DFS\n",
        "        visited (set): Set of visited nodes (used internally for recursion)\n",
        "        traversal_order (list): Order of traversal (used internally for recursion)\n",
        "\n",
        "    Returns:\n",
        "        list: The DFS traversal order\n",
        "    \"\"\"\n",
        "    if visited is None:\n",
        "        visited = set()\n",
        "    if traversal_order is None:\n",
        "        traversal_order = []\n",
        "\n",
        "    if node not in visited:\n",
        "        visited.add(node)\n",
        "        traversal_order.append(node)\n",
        "\n",
        "        for neighbor in graph.get(node, []):\n",
        "            dfs_recursive(graph, neighbor, visited, traversal_order)\n",
        "\n",
        "    return traversal_order\n",
        "\n",
        "def dfs_iterative(graph, start_node):\n",
        "    \"\"\"\n",
        "    DFS implementation using iteration (stack).\n",
        "\n",
        "    Args:\n",
        "        graph (dict): The graph represented as adjacency list\n",
        "        start_node: The starting node for DFS\n",
        "\n",
        "    Returns:\n",
        "        list: The DFS traversal order\n",
        "    \"\"\"\n",
        "    visited = set()\n",
        "    traversal_order = []\n",
        "    stack = [start_node]\n",
        "\n",
        "    while stack:\n",
        "        node = stack.pop()\n",
        "        if node not in visited:\n",
        "            visited.add(node)\n",
        "            traversal_order.append(node)\n",
        "            # Push neighbors in reverse order to visit them left-to-right\n",
        "            for neighbor in reversed(graph.get(node, [])):\n",
        "                if neighbor not in visited:\n",
        "                    stack.append(neighbor)\n",
        "\n",
        "    return traversal_order\n",
        "\n",
        "# Example dataset (graph represented as adjacency list)\n",
        "graph = {\n",
        "    'A': ['B', 'C'],\n",
        "    'B': ['A', 'D', 'E'],\n",
        "    'C': ['A', 'F'],\n",
        "    'D': ['B'],\n",
        "    'E': ['B', 'F'],\n",
        "    'F': ['C', 'E']\n",
        "}\n",
        "\n",
        "# Perform DFS starting from node 'A'\n",
        "start_node = 'A'\n",
        "\n",
        "print(\"Recursive DFS traversal:\")\n",
        "recursive_result = dfs_recursive(graph, start_node)\n",
        "print(\" -> \".join(recursive_result))\n",
        "\n",
        "print(\"\\nIterative DFS traversal:\")\n",
        "iterative_result = dfs_iterative(graph, start_node)\n",
        "print(\" -> \".join(iterative_result))\n",
        "\n",
        "# Optional: Print the graph structure\n",
        "print(\"\\nGraph structure (adjacency list):\")\n",
        "for node, neighbors in graph.items():\n",
        "    print(f\"{node}: {', '.join(neighbors)}\")"
      ]
    }
  ]
}