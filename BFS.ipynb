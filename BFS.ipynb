{
  "nbformat": 4,
  "nbformat_minor": 0,
  "metadata": {
    "colab": {
      "provenance": []
    },
    "kernelspec": {
      "name": "python3",
      "display_name": "Python 3"
    },
    "language_info": {
      "name": "python"
    }
  },
  "cells": [
    {
      "cell_type": "code",
      "execution_count": null,
      "metadata": {
        "colab": {
          "base_uri": "https://localhost:8080/"
        },
        "id": "AA8MW4KBmv41",
        "outputId": "34f8c3ae-3760-4fc4-ba01-df235030c49c"
      },
      "outputs": [
        {
          "output_type": "stream",
          "name": "stdout",
          "text": [
            "BFS traversal starting from node A:\n",
            "A -> B -> C -> D -> E -> F\n",
            "\n",
            "Graph structure (adjacency list):\n",
            "A: B, C\n",
            "B: A, D, E\n",
            "C: A, F\n",
            "D: B\n",
            "E: B, F\n",
            "F: C, E\n"
          ]
        }
      ],
      "source": [
        "from collections import deque\n",
        "\n",
        "def bfs(graph, start_node):\n",
        "    \"\"\"\n",
        "    Perform Breadth-First Search on a graph starting from a given node.\n",
        "\n",
        "    Args:\n",
        "        graph (dict): The graph represented as an adjacency list\n",
        "        start_node: The starting node for BFS traversal\n",
        "\n",
        "    Returns:\n",
        "        list: The order in which nodes were visited\n",
        "    \"\"\"\n",
        "    # Initialize a queue for BFS and a set to track visited nodes\n",
        "    queue = deque([start_node])\n",
        "    visited = set([start_node])\n",
        "    traversal_order = []\n",
        "\n",
        "    while queue:\n",
        "        # Dequeue a node from the front of the queue\n",
        "        current_node = queue.popleft()\n",
        "        traversal_order.append(current_node)\n",
        "\n",
        "        # Visit all adjacent nodes that haven't been visited\n",
        "        for neighbor in graph.get(current_node, []):\n",
        "            if neighbor not in visited:\n",
        "                visited.add(neighbor)\n",
        "                queue.append(neighbor)\n",
        "\n",
        "    return traversal_order\n",
        "\n",
        "# Example dataset (graph represented as adjacency list)\n",
        "graph = {\n",
        "    'A': ['B', 'C'],\n",
        "    'B': ['A', 'D', 'E'],\n",
        "    'C': ['A', 'F'],\n",
        "    'D': ['B'],\n",
        "    'E': ['B', 'F'],\n",
        "    'F': ['C', 'E']\n",
        "}\n",
        "\n",
        "# Perform BFS starting from node 'A'\n",
        "start_node = 'A'\n",
        "print(f\"BFS traversal starting from node {start_node}:\")\n",
        "bfs_result = bfs(graph, start_node)\n",
        "print(\" -> \".join(bfs_result))\n",
        "\n",
        "# Optional: Print the graph structure\n",
        "print(\"\\nGraph structure (adjacency list):\")\n",
        "for node, neighbors in graph.items():\n",
        "    print(f\"{node}: {', '.join(neighbors)}\")"
      ]
    }
  ]
}