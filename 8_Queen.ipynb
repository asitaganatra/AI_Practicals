{
  "nbformat": 4,
  "nbformat_minor": 0,
  "metadata": {
    "colab": {
      "provenance": []
    },
    "kernelspec": {
      "name": "python3",
      "display_name": "Python 3"
    },
    "language_info": {
      "name": "python"
    }
  },
  "cells": [
    {
      "cell_type": "code",
      "execution_count": null,
      "metadata": {
        "colab": {
          "base_uri": "https://localhost:8080/"
        },
        "id": "8DZ-AueKmJAm",
        "outputId": "2d43faab-f9fd-42e8-dbd0-1750551c131d"
      },
      "outputs": [
        {
          "output_type": "stream",
          "name": "stdout",
          "text": [
            "Total solutions found: 92\n",
            "\n",
            "First solution:\n",
            "Q . . . . . . .\n",
            ". . . . . . Q .\n",
            ". . . . Q . . .\n",
            ". . . . . . . Q\n",
            ". Q . . . . . .\n",
            ". . . Q . . . .\n",
            ". . . . . Q . .\n",
            ". . Q . . . . .\n"
          ]
        }
      ],
      "source": [
        "def solve_queens():\n",
        "    # This will store valid board configurations\n",
        "    solutions = []\n",
        "\n",
        "    # Helper function to check if a queen can be placed at (row, col)\n",
        "    def is_safe(board, row, col):\n",
        "        # Check this row on left side\n",
        "        for i in range(col):\n",
        "            if board[row][i] == 1:\n",
        "                return False\n",
        "\n",
        "        # Check upper diagonal on left side\n",
        "        for i, j in zip(range(row, -1, -1), range(col, -1, -1)):\n",
        "            if board[i][j] == 1:\n",
        "                return False\n",
        "\n",
        "        # Check lower diagonal on left side\n",
        "        for i, j in zip(range(row, 8, 1), range(col, -1, -1)):\n",
        "            if board[i][j] == 1:\n",
        "                return False\n",
        "\n",
        "        return True\n",
        "\n",
        "    # Recursive backtracking function\n",
        "    def backtrack(board, col):\n",
        "        # Base case: If all queens are placed\n",
        "        if col >= 8:\n",
        "            # Add a copy of the solution\n",
        "            solutions.append([row[:] for row in board])\n",
        "            return\n",
        "\n",
        "        # Try placing queen in all rows of this column\n",
        "        for row in range(8):\n",
        "            if is_safe(board, row, col):\n",
        "                # Place the queen\n",
        "                board[row][col] = 1\n",
        "\n",
        "                # Recur to place rest of the queens\n",
        "                backtrack(board, col + 1)\n",
        "\n",
        "                # Backtrack (remove the queen)\n",
        "                board[row][col] = 0\n",
        "\n",
        "    # Initialize empty 8x8 chessboard (0 = empty, 1 = queen)\n",
        "    chessboard = [[0 for _ in range(8)] for _ in range(8)]\n",
        "\n",
        "    # Start from the first column (col = 0)\n",
        "    backtrack(chessboard, 0)\n",
        "\n",
        "    return solutions\n",
        "\n",
        "# Get all solutions\n",
        "all_solutions = solve_queens()\n",
        "\n",
        "# Print the number of solutions and display the first solution\n",
        "print(f\"Total solutions found: {len(all_solutions)}\")\n",
        "if all_solutions:\n",
        "    print(\"\\nFirst solution:\")\n",
        "    for row in all_solutions[0]:\n",
        "        print(\" \".join(\"Q\" if cell else \".\" for cell in row))"
      ]
    }
  ]
}